{
  "nbformat": 4,
  "nbformat_minor": 0,
  "metadata": {
    "colab": {
      "name": "lab6.ipynb",
      "provenance": [],
      "collapsed_sections": []
    },
    "kernelspec": {
      "display_name": "Python 3",
      "language": "python",
      "name": "python3"
    },
    "language_info": {
      "codemirror_mode": {
        "name": "ipython",
        "version": 3
      },
      "file_extension": ".py",
      "mimetype": "text/x-python",
      "name": "python",
      "nbconvert_exporter": "python",
      "pygments_lexer": "ipython3",
      "version": "3.7.4"
    },
    "pycharm": {
      "stem_cell": {
        "cell_type": "raw",
        "metadata": {
          "collapsed": false
        },
        "source": []
      }
    }
  },
  "cells": [
    {
      "cell_type": "markdown",
      "metadata": {
        "id": "0YpKBiuiVdFs",
        "colab_type": "text"
      },
      "source": [
        "<a \n",
        "href=\"https://colab.research.google.com/github/wingated/cs474_labs_f2019/blob/master/DL_Lab6.ipynb\"\n",
        "  target=\"_parent\">\n",
        "  <img\n",
        "    src=\"https://colab.research.google.com/assets/colab-badge.svg\"\n",
        "    alt=\"Open In Colab\"/>\n",
        "</a>"
      ]
    },
    {
      "cell_type": "markdown",
      "metadata": {
        "colab_type": "text",
        "id": "cksgAH12XRjV"
      },
      "source": [
        "# Lab 6: Sequence-to-sequence models\n",
        "\n",
        "### Description:\n",
        "For this lab, you will code up the [char-rnn model of Karpathy](http://karpathy.github.io/2015/05/21/rnn-effectiveness/). This is a recurrent neural network that is trained probabilistically on sequences of characters, and that can then be used to sample new sequences that are like the original.\n",
        "\n",
        "This lab will help you develop several new skills, as well as understand some best practices needed for building large models. In addition, we'll be able to create networks that generate neat text!\n",
        "\n",
        "### Deliverable:\n",
        "- Fill in the code for the RNN (using PyTorch's built-in GRU).\n",
        "- Fill in the training loop\n",
        "- Fill in the evaluation loop. In this loop, rather than using a validation set, you will sample text from the RNN.\n",
        "- Implement your own GRU cell.\n",
        "- Train your RNN on a new domain of text (Star Wars, political speeches, etc. - have fun!)\n",
        "\n",
        "### Grading Standards:\n",
        "- 20% Implementation the RNN\n",
        "- 20% Implementation training loop\n",
        "- 20% Implementation of evaluation loop\n",
        "- 20% Implementation of your own GRU cell\n",
        "- 20% Training of your RNN on a domain of your choice\n",
        "\n",
        "### Tips:\n",
        "- Read through all the helper functions, run them, and make sure you understand what they are doing\n",
        "- At each stage, ask yourself: What should the dimensions of this tensor be? Should its data type be float or int? (int is called `long` in PyTorch)\n",
        "- Don't apply a softmax inside the RNN if you are using an nn.CrossEntropyLoss (this module already applies a softmax to its input).\n",
        "\n",
        "### Example Output:\n",
        "An example of my final samples are shown below (more detail in the\n",
        "final section of this writeup), after 150 passes through the data.\n",
        "Please generate about 15 samples for each dataset.\n",
        "\n",
        "<code>\n",
        "And ifte thin forgision forward thene over up to a fear not your\n",
        "And freitions, which is great God. Behold these are the loss sub\n",
        "And ache with the Lord hath bloes, which was done to the holy Gr\n",
        "And appeicis arm vinimonahites strong in name, to doth piseling \n",
        "And miniquithers these words, he commanded order not; neither sa\n",
        "And min for many would happine even to the earth, to said unto m\n",
        "And mie first be traditions? Behold, you, because it was a sound\n",
        "And from tike ended the Lamanites had administered, and I say bi\n",
        "</code>\n"
      ]
    },
    {
      "cell_type": "markdown",
      "metadata": {
        "colab_type": "text",
        "id": "c2i_QpSsWG4c"
      },
      "source": [
        "---\n",
        "\n",
        "## Part 0: Readings, data loading, and high level training\n",
        "\n",
        "---\n",
        "\n",
        "There is a tutorial here that will help build out scaffolding code, and get an understanding of using sequences in pytorch.\n",
        "\n",
        "* Read the following\n",
        "\n",
        "> * [Pytorch sequence-to-sequence tutorial](https://pytorch.org/tutorials/intermediate/seq2seq_translation_tutorial.html) (Take note that you will not be implementing the encoder part of this tutorial.)\n",
        "* [Understanding LSTM Networks](http://colah.github.io/posts/2015-08-Understanding-LSTMs/)\n",
        "\n",
        "\n",
        "\n",
        "\n"
      ]
    },
    {
      "cell_type": "code",
      "metadata": {
        "colab_type": "code",
        "id": "l7bdZWxvJrsx",
        "outputId": "d55457e6-45cf-4d5c-fdde-f3bdb00cc4a9",
        "colab": {
          "base_uri": "https://localhost:8080/",
          "height": 436
        }
      },
      "source": [
        "! wget -O ./text_files.tar.gz 'https://piazza.com/redirect/s3?bucket=uploads&prefix=attach%2Fjlifkda6h0x5bk%2Fhzosotq4zil49m%2Fjn13x09arfeb%2Ftext_files.tar.gz' \n",
        "! tar -xzf text_files.tar.gz\n",
        "! pip install unidecode\n",
        "! pip install torch\n",
        "\n",
        "import unidecode\n",
        "import string\n",
        "import random\n",
        "import re\n",
        " \n",
        "import pdb\n",
        " \n",
        "all_characters = string.printable\n",
        "n_characters = len(all_characters)\n",
        "file = unidecode.unidecode(open('./text_files/lotr.txt').read())\n",
        "file_len = len(file)\n",
        "print('file_len =', file_len)"
      ],
      "execution_count": 1,
      "outputs": [
        {
          "output_type": "stream",
          "text": [
            "--2020-02-14 17:03:48--  https://piazza.com/redirect/s3?bucket=uploads&prefix=attach%2Fjlifkda6h0x5bk%2Fhzosotq4zil49m%2Fjn13x09arfeb%2Ftext_files.tar.gz\n",
            "Resolving piazza.com (piazza.com)... 52.4.91.75, 34.192.194.48, 34.237.183.157, ...\n",
            "Connecting to piazza.com (piazza.com)|52.4.91.75|:443... connected.\n",
            "HTTP request sent, awaiting response... 302 Found\n",
            "Location: https://d1b10bmlvqabco.cloudfront.net/attach/jlifkda6h0x5bk/hzosotq4zil49m/jn13x09arfeb/text_files.tar.gz [following]\n",
            "--2020-02-14 17:03:48--  https://d1b10bmlvqabco.cloudfront.net/attach/jlifkda6h0x5bk/hzosotq4zil49m/jn13x09arfeb/text_files.tar.gz\n",
            "Resolving d1b10bmlvqabco.cloudfront.net (d1b10bmlvqabco.cloudfront.net)... 13.35.112.107, 13.35.112.59, 13.35.112.222, ...\n",
            "Connecting to d1b10bmlvqabco.cloudfront.net (d1b10bmlvqabco.cloudfront.net)|13.35.112.107|:443... connected.\n",
            "HTTP request sent, awaiting response... 200 OK\n",
            "Length: 1533290 (1.5M) [application/x-gzip]\n",
            "Saving to: ‘./text_files.tar.gz’\n",
            "\n",
            "./text_files.tar.gz 100%[===================>]   1.46M  --.-KB/s    in 0.1s    \n",
            "\n",
            "2020-02-14 17:03:48 (10.0 MB/s) - ‘./text_files.tar.gz’ saved [1533290/1533290]\n",
            "\n",
            "Collecting unidecode\n",
            "\u001b[?25l  Downloading https://files.pythonhosted.org/packages/d0/42/d9edfed04228bacea2d824904cae367ee9efd05e6cce7ceaaedd0b0ad964/Unidecode-1.1.1-py2.py3-none-any.whl (238kB)\n",
            "\u001b[K     |████████████████████████████████| 245kB 2.9MB/s \n",
            "\u001b[?25hInstalling collected packages: unidecode\n",
            "Successfully installed unidecode-1.1.1\n",
            "Requirement already satisfied: torch in /usr/local/lib/python3.6/dist-packages (1.4.0)\n",
            "file_len = 2579888\n"
          ],
          "name": "stdout"
        }
      ]
    },
    {
      "cell_type": "code",
      "metadata": {
        "colab_type": "code",
        "id": "TxBeKeNjJ0NQ",
        "outputId": "a9ec711c-ebda-47e0-f397-36bc1811f02c",
        "colab": {
          "base_uri": "https://localhost:8080/",
          "height": 69
        }
      },
      "source": [
        "chunk_len = 200\n",
        " \n",
        "def random_chunk():\n",
        "  start_index = random.randint(0, file_len - chunk_len)\n",
        "  end_index = start_index + chunk_len + 1\n",
        "  return file[start_index:end_index]\n",
        "  \n",
        "print(random_chunk())"
      ],
      "execution_count": 2,
      "outputs": [
        {
          "output_type": "stream",
          "text": [
            "n the top they found, as Strider had said, a wide ring of ancient \n",
            "stonework, now crumbling or covered with age-long grass. But in the centre a \n",
            "cairn of broken stones had been piled. They were blacken\n"
          ],
          "name": "stdout"
        }
      ]
    },
    {
      "cell_type": "code",
      "metadata": {
        "colab_type": "code",
        "id": "On0_WitWJ99e",
        "outputId": "efa12b5f-0175-4a3f-f5df-2873bc0049aa",
        "colab": {
          "base_uri": "https://localhost:8080/",
          "height": 34
        }
      },
      "source": [
        "import torch\n",
        "# Turn string into list of longs\n",
        "def char_tensor(string):\n",
        "  tensor = torch.zeros(len(string)).long()\n",
        "  for c in range(len(string)):\n",
        "      tensor[c] = all_characters.index(string[c])\n",
        "  return tensor\n",
        "\n",
        "print(char_tensor('abcDEF'))"
      ],
      "execution_count": 3,
      "outputs": [
        {
          "output_type": "stream",
          "text": [
            "tensor([10, 11, 12, 39, 40, 41])\n"
          ],
          "name": "stdout"
        }
      ]
    },
    {
      "cell_type": "markdown",
      "metadata": {
        "colab_type": "text",
        "id": "CYJPTLcaYmfI"
      },
      "source": [
        "---\n",
        "\n",
        "## Part 4: Creating your own GRU cell \n",
        "\n",
        "**(Come back to this later - its defined here so that the GRU will be defined before it is used)**\n",
        "\n",
        "---\n",
        "\n",
        "The cell that you used in Part 1 was a pre-defined Pytorch layer. Now, write your own GRU class using the same parameters as the built-in Pytorch class does.\n",
        "\n",
        "Please try not to look at the GRU cell definition. The answer is right there in the code, and in theory, you could just cut-and-paste it. This bit is on your honor!\n",
        "\n",
        "**TODO:**\n",
        "* Create a custom GRU cell\n",
        "\n",
        "**DONE:**\n",
        "\n"
      ]
    },
    {
      "cell_type": "code",
      "metadata": {
        "colab_type": "code",
        "id": "aavAv50ZKQ-F",
        "colab": {}
      },
      "source": [
        "import torch\n",
        "import torch.nn as nn\n",
        "import torch.nn.functional as F\n",
        "\n",
        "\n",
        "class GRU(nn.Module):\n",
        "  def __init__(self, input_size, hidden_size, num_layers):\n",
        "    super(GRU, self).__init__()\n",
        "    self.W_ir = nn.Linear(input_size, hidden_size)\n",
        "    self.W_hr = nn.Linear(hidden_size, hidden_size)\n",
        "    self.W_iz = nn.Linear(input_size, hidden_size)\n",
        "    self.W_hz = nn.Linear(hidden_size, hidden_size)\n",
        "    self.W_in = nn.Linear(input_size, hidden_size)\n",
        "    self.W_hn = nn.Linear(hidden_size, hidden_size)\n",
        "  \n",
        "  def forward(self, inputs, hidden):\n",
        "    r_t = torch.nn.functional.sigmoid(self.W_ir(inputs) + self.W_hr(hidden))\n",
        "    z_t = torch.nn.functional.sigmoid(self.W_iz(inputs) + self.W_hz(hidden))\n",
        "    n_t = torch.nn.functional.tanh(self.W_in(inputs) + (r_t*(self.W_hn(hidden))))\n",
        "    hidden = ((1 - z_t)*n_t) + (z_t*hidden)\n",
        "    output = hidden\n",
        "    # Each layer does the following:\n",
        "    # r_t = sigmoid(W_ir*x_t + b_ir + W_hr*h_(t-1) + b_hr)\n",
        "    # z_t = sigmoid(W_iz*x_t + b_iz + W_hz*h_(t-1) + b_hz)\n",
        "    # n_t = tanh(W_in*x_t + b_in + r_t**(W_hn*h_(t-1) + b_hn))\n",
        "    # h_(t) = (1 - z_t)**n_t + z_t**h_(t-1)\n",
        "    # Where ** is hadamard product (not matrix multiplication, but elementwise multiplication)\n",
        "    \n",
        "    return output, hidden\n",
        "  \n"
      ],
      "execution_count": 0,
      "outputs": []
    },
    {
      "cell_type": "markdown",
      "metadata": {
        "colab_type": "text",
        "id": "qtXdX-B_WiAY"
      },
      "source": [
        "---\n",
        "\n",
        "##  Part 1: Building a sequence to sequence model\n",
        "\n",
        "---\n",
        "\n",
        "Great! We have the data in a useable form. We can switch out which text file we are reading from, and trying to simulate.\n",
        "\n",
        "We now want to build out an RNN model, in this section, we will use all built in Pytorch pieces when building our RNN class.\n",
        "\n",
        "\n",
        "**TODO:**\n",
        "* Create an RNN class that extends from nn.Module.\n",
        "\n",
        "**DONE:**\n",
        "\n"
      ]
    },
    {
      "cell_type": "code",
      "metadata": {
        "colab_type": "code",
        "id": "d6tNdEnzWj5F",
        "colab": {}
      },
      "source": [
        "class RNN(nn.Module):\n",
        "  def __init__(self, input_size, hidden_size, output_size, n_layers=1):\n",
        "    super(RNN, self).__init__()\n",
        "    self.input_size = input_size\n",
        "    self.hidden_size = hidden_size\n",
        "    self.output_size = output_size\n",
        "    self.n_layers = n_layers\n",
        "\n",
        "    self.embedding = nn.Embedding(output_size, hidden_size)\n",
        "    self.gru = nn.GRU(hidden_size, hidden_size)\n",
        "    # self.gru = GRU(hidden_size, hidden_size, n_layers)\n",
        "    self.out = nn.Linear(hidden_size, output_size)\n",
        "    # more stuff here...\n",
        "\n",
        "  def forward(self, input_char, hidden):\n",
        "    # by reviewing the documentation, construct a forward function that properly uses the output\n",
        "    # of the GRU\n",
        "    # stuff here\n",
        "    # pdb.set_trace()\n",
        "    output = self.embedding(input_char).view(1, 1, -1)\n",
        "    #pdb.set_trace()\n",
        "    output = F.relu(output)\n",
        "    output, hidden = self.gru(output, hidden)\n",
        "    output = self.out(output)\n",
        "    return output, hidden\n",
        "    \n",
        "  def init_hidden(self):\n",
        "    return torch.zeros(self.n_layers, 1, self.hidden_size)"
      ],
      "execution_count": 0,
      "outputs": []
    },
    {
      "cell_type": "code",
      "metadata": {
        "colab_type": "code",
        "id": "hrhXghEPKD-5",
        "colab": {}
      },
      "source": [
        "def random_training_set():    \n",
        "  chunk = random_chunk()\n",
        "  inp = char_tensor(chunk[:-1])\n",
        "  target = char_tensor(chunk[1:])\n",
        "  return inp, target"
      ],
      "execution_count": 0,
      "outputs": []
    },
    {
      "cell_type": "markdown",
      "metadata": {
        "colab_type": "text",
        "id": "ZpiGObbBX0Mr"
      },
      "source": [
        "---\n",
        "\n",
        "## Part 2: Sample text and Training information\n",
        "\n",
        "---\n",
        "\n",
        "We now want to be able to train our network, and sample text after training.\n",
        "\n",
        "This function outlines how training a sequence style network goes. \n",
        "\n",
        "**TODO:**\n",
        "* Fill in the pieces.\n",
        "\n",
        "**DONE:**\n",
        "\n",
        "\n"
      ]
    },
    {
      "cell_type": "code",
      "metadata": {
        "colab_type": "code",
        "id": "2ALC3Pf8Kbsi",
        "colab": {}
      },
      "source": [
        "\n",
        "\n",
        "def train(inp, target):\n",
        "  ## initialize hidden layers, set up gradient and loss \n",
        "    # your code here\n",
        "  ## /\n",
        "\n",
        "  decoder_optimizer.zero_grad()\n",
        "  hidden = decoder.init_hidden()\n",
        "  loss = 0\n",
        "\n",
        "  #pdb.set_trace()\n",
        "  for di in range(inp.size(0)):\n",
        "    output, hidden = decoder(inp[di], hidden)\n",
        "    # pdb.set_trace()\n",
        "    myTarget = target[di].unsqueeze(0)\n",
        "    myOutput = output.squeeze(0)\n",
        "    # pdb.set_trace()\n",
        "    loss += criterion(myOutput, myTarget)\n",
        "\n",
        "  loss.backward()\n",
        "  decoder_optimizer.step()\n",
        "\n",
        "  return loss.item() / inp.size(0)\n",
        "\n",
        "    \n",
        "  # more stuff here..."
      ],
      "execution_count": 0,
      "outputs": []
    },
    {
      "cell_type": "markdown",
      "metadata": {
        "colab_type": "text",
        "id": "EN06NUu3YRlz"
      },
      "source": [
        "---\n",
        "\n",
        "## Part 3: Sample text and Training information\n",
        "\n",
        "---\n",
        "\n",
        "You can at this time, if you choose, also write out your train loop boilerplate that samples random sequences and trains your RNN. This will be helpful to have working before writing your own GRU class.\n",
        "\n",
        "If you are finished training, or during training, and you want to sample from the network you may consider using the following function. If your RNN model is instantiated as `decoder`then this will probabilistically sample a sequence of length `predict_len`\n",
        "\n",
        "**TODO:**\n",
        "* Fill out the evaluate function to generate text frome a primed string\n",
        "\n",
        "**DONE:**\n",
        "\n"
      ]
    },
    {
      "cell_type": "code",
      "metadata": {
        "colab_type": "code",
        "id": "B-bp-OZ1KjNh",
        "colab": {}
      },
      "source": [
        "def sample_outputs(output, temp):\n",
        "    \"\"\"Takes in a vector of unnormalized probability weights and samples a character from the distribution\"\"\"\n",
        "    T = temp\n",
        "    return torch.multinomial(torch.exp(output) / T, 1)\n",
        "\n",
        "def evaluate(prime_str='A', predict_len=100, temperature=0.8):\n",
        "  ## initialize hidden state, initialize other useful variables\n",
        "    # your code here\n",
        "  ## /\n",
        "  ans = \"\"\n",
        "  with torch.no_grad():\n",
        "    hidden = decoder.init_hidden()\n",
        "    ans += prime_str\n",
        "\n",
        "    for char in prime_str:\n",
        "      output, hidden = decoder(char_tensor(char), hidden)\n",
        "\n",
        "    for i in range(predict_len):\n",
        "      output, hidden = decoder(char_tensor(ans[-1]), hidden)\n",
        "      next_char = all_characters[sample_outputs(output.squeeze(0), temperature)]\n",
        "      ans += next_char\n",
        "\n",
        "  return ans\n"
      ],
      "execution_count": 0,
      "outputs": []
    },
    {
      "cell_type": "markdown",
      "metadata": {
        "colab_type": "text",
        "id": "Du4AGA8PcFEW"
      },
      "source": [
        "---\n",
        "\n",
        "## Part 4: (Create a GRU cell, requirements above)\n",
        "\n",
        "---\n"
      ]
    },
    {
      "cell_type": "markdown",
      "metadata": {
        "colab_type": "text",
        "id": "GFS2bpHSZEU6"
      },
      "source": [
        "\n",
        "---\n",
        "\n",
        "## Part 5: Run it and generate some text!\n",
        "\n",
        "---\n",
        "\n",
        "Assuming everything has gone well, you should be able to run the main function in the scaffold code, using either your custom GRU cell or the built in layer, and see output something like this. I trained on the “lotr.txt” dataset, using chunk_length=200, hidden_size=100 for 2000 epochs gave.\n",
        "\n",
        "**TODO:** \n",
        "* Create some cool output\n",
        "\n",
        "**DONE:**\n",
        "\n"
      ]
    },
    {
      "cell_type": "code",
      "metadata": {
        "colab_type": "code",
        "id": "-nXFeCmdKodw",
        "colab": {}
      },
      "source": [
        "import time\n",
        "n_epochs = 5000\n",
        "print_every = 500\n",
        "plot_every = 100\n",
        "hidden_size = 200\n",
        "n_layers = 1\n",
        "lr = 0.001\n",
        " \n",
        "decoder = RNN(n_characters, hidden_size, n_characters, n_layers)\n",
        "decoder_optimizer = torch.optim.Adam(decoder.parameters(), lr=lr)\n",
        "criterion = nn.CrossEntropyLoss()\n",
        "\n",
        "inp, target = random_training_set()\n",
        "start = time.time()\n",
        "all_losses = []\n",
        "loss_avg = 0"
      ],
      "execution_count": 0,
      "outputs": []
    },
    {
      "cell_type": "code",
      "metadata": {
        "colab_type": "code",
        "id": "xKfozqw-6eqb",
        "outputId": "2459ee71-db79-4021-f92d-525430835568",
        "colab": {
          "base_uri": "https://localhost:8080/",
          "height": 920
        }
      },
      "source": [
        "# n_epochs = 2000\n",
        "for epoch in range(1, n_epochs + 1):\n",
        "  loss_ = train(*random_training_set())       \n",
        "  loss_avg += loss_\n",
        "\n",
        "  if epoch % print_every == 0:\n",
        "      print('[%s (%d %d%%) %.4f]' % (time.time() - start, epoch, epoch / n_epochs * 100, loss_))\n",
        "      print(evaluate('Wh', 100), '\\n')\n",
        "\n",
        "  if epoch % plot_every == 0:\n",
        "      all_losses.append(loss_avg / plot_every)\n",
        "      loss_avg = 0"
      ],
      "execution_count": 10,
      "outputs": [
        {
          "output_type": "stream",
          "text": [
            "[160.0490756034851 (500 10%) 2.1265]\n",
            "Why. \n",
            "\n",
            "'Af on \n",
            "hady bis the marnted the qouly fo thele roce fordire the brincly bcougs the bear piderd \n",
            "\n",
            "[315.1375916004181 (1000 20%) 1.7720]\n",
            "Wher been sevend beach wour Plagh Sarwal. But betras!' Sam \n",
            "him, I drond, and agoned brayderid \n",
            "goomby \n",
            "\n",
            "[470.18575286865234 (1500 30%) 1.6771]\n",
            "Whed or \n",
            "coult, yet was fell a \n",
            "not firetherth, It willoming frodo'le werey; and mind!' he wearing Sal \n",
            "\n",
            "[624.9832427501678 (2000 40%) 1.6129]\n",
            "Whilly \n",
            "off the Strunk \n",
            "benoth an - thre ca. \n",
            "\n",
            "'Not with he said,' said AromoFs of I knove and been al \n",
            "\n",
            "[780.3138167858124 (2500 50%) 1.7916]\n",
            "Whel,' said Sam, \n",
            "slven only all Frodo he \n",
            "am in the hidge \n",
            "tye,; agains endalf of your frum of mide.' \n",
            "\n",
            "[934.9903318881989 (3000 60%) 1.4160]\n",
            "Wh at them se maskned feltient I but hanging to to say took for him,' said Ly he have see nigst. The t \n",
            "\n",
            "[1090.3390100002289 (3500 70%) 1.7008]\n",
            "Whelly, river of If was brough the dark and all. \n",
            "\n",
            "It ham dogevay the Men leam the know. I kon were yo \n",
            "\n",
            "[1244.9345769882202 (4000 80%) 1.5347]\n",
            "Whose crumber do the \n",
            "chairing, fyer a coupless, or \n",
            "not of \n",
            "me the sungress, must center has every, ' \n",
            "\n",
            "[1400.4253616333008 (4500 90%) 1.5281]\n",
            "Wheron, fell or ever many \n",
            "a follow after a slift!' he searly them: my pass,' said that way, and stopp \n",
            "\n",
            "[1554.5766780376434 (5000 100%) 1.5047]\n",
            "Wh oremanifint of the good with Denared flet deep day byath \n",
            "very gobing sop it was enves \n",
            "it have, an \n",
            "\n"
          ],
          "name": "stdout"
        }
      ]
    },
    {
      "cell_type": "code",
      "metadata": {
        "colab_type": "code",
        "id": "Ee0so6aKJ5L8",
        "outputId": "1f204c61-e56e-4301-af05-3ed27946bf6c",
        "colab": {
          "base_uri": "https://localhost:8080/",
          "height": 1000
        }
      },
      "source": [
        "for i in range(10):\n",
        "  start_strings = [\" Th\", \" wh\", \" he\", \" I \", \" ca\", \" G\", \" lo\", \" ra\"]\n",
        "  start = random.randint(0,len(start_strings)-1)\n",
        "  print(start_strings[start])\n",
        "#   all_characters.index(string[c])\n",
        "  print(evaluate(start_strings[start], 200), '\\n')"
      ],
      "execution_count": 12,
      "outputs": [
        {
          "output_type": "stream",
          "text": [
            " he\n",
            " hed and keep about finely as I'm clan-sweet \n",
            "to the king, \n",
            "year trusted with the Fite. Not alsifold- and there nouthold \n",
            "vises he could deep tur and went of roavest night to he. \n",
            "\n",
            "Slat beyond in from th \n",
            "\n",
            " I \n",
            " I on othent \n",
            "twell, \n",
            "eybelged down dievented that he fend older their care for \n",
            "out, I don't did never you was pangrent hard. \n",
            "\n",
            "'Never \n",
            "any sing Placoin was ranging upon the Sensat. They shall now steng \n",
            "\n",
            " I \n",
            " I would say, should me how even with his \n",
            "\n",
            "\n",
            "\n",
            "walkness dour!' Gandalf on Pippin those f(S, in a \n",
            "many namelt; and have no for age before the purkee of \n",
            "then redious \n",
            "Nartting was lanst entrish. Therery \n",
            " \n",
            "\n",
            " he\n",
            " hed, as we \n",
            "lang Lord on a rim \n",
            "it have deep darkness he wonder; Gondot thus he sleef the City, though Shjoded that he nerry he ramselfached uncest the Smove Hord have been wath faight of the \n",
            "\n",
            "\n",
            "\n",
            "glever \n",
            "\n",
            " I \n",
            " I mon on fine to exile stase, \n",
            "to hand was son't blance \n",
            "\n",
            "which \n",
            "though \n",
            "their men the Woomer have am our wark will of Buridly. 'Aftrying Past the bound. The mouth for it stood that wathing. Not dou in  \n",
            "\n",
            " Th\n",
            " They wentt to the suhnoubhing shadow the \n",
            "Ring stast: he was down even \n",
            "\n",
            "\n",
            "gate at \n",
            "seemed rishe of a whill. 'Gand,' what it \n",
            "feek up! Tell \n",
            "\n",
            "should had back heabing on us an old. Evgrass to cante not li \n",
            "\n",
            " G\n",
            " Gomber and stailing on him. Not tope one the fit the awair the sunly. \n",
            "\n",
            "The dranged present,' an our comvain answered, sitting a pack. 'The unhall for \n",
            "deeping gone of the \n",
            "put that the lands to the we \n",
            "\n",
            " ca\n",
            " cage Gandalf of the Load soon of come them doement, his before their fear, \n",
            "Splant upon his sug. \n",
            "\n",
            "And tenter will war have be your dangers whine harde must and least on the moon.' \n",
            "\n",
            "'Bust and quits on  \n",
            "\n",
            " ca\n",
            " cage walk. \n",
            "\n",
            "\n",
            "\n",
            "Don't he seemed his way from the upited, as why we know; retoot a clountal wanfully and very passed to roots and tack \n",
            "out; Forgown as such of brew. \n",
            "\n",
            "He leaves \n",
            "cowing,' he said. How and \n",
            "\n",
            " I \n",
            " I ore, and apprangy; for the bey wormy back oreming \n",
            "and \n",
            "the ofte was \n",
            "\n",
            "\n",
            "\n",
            "\n",
            "Place howed and went of my, \n",
            "or come long of fear and the percles coulden back.' \n",
            "\n",
            "'His at Lought of the horn. \n",
            "\n",
            "'On \n",
            "they ror \n",
            "\n"
          ],
          "name": "stdout"
        }
      ]
    },
    {
      "cell_type": "code",
      "metadata": {
        "id": "AxHSnox9TCvm",
        "colab_type": "code",
        "outputId": "71fd93ff-fafa-47dc-e97d-9e7809ea7019",
        "colab": {
          "base_uri": "https://localhost:8080/",
          "height": 282
        }
      },
      "source": [
        "import matplotlib.pyplot as plt\n",
        "plt.plot(all_losses)"
      ],
      "execution_count": 15,
      "outputs": [
        {
          "output_type": "execute_result",
          "data": {
            "text/plain": [
              "[<matplotlib.lines.Line2D at 0x7f08f152ca90>]"
            ]
          },
          "metadata": {
            "tags": []
          },
          "execution_count": 15
        },
        {
          "output_type": "display_data",
          "data": {
            "image/png": "[encoded data removed]",
            "text/plain": [
              "<Figure size 432x288 with 1 Axes>"
            ]
          },
          "metadata": {
            "tags": []
          }
        }
      ]
    },
    {
      "cell_type": "markdown",
      "metadata": {
        "id": "IkqxGoZYBeA1",
        "colab_type": "text"
      },
      "source": [
        "# New Section"
      ]
    },
    {
      "cell_type": "markdown",
      "metadata": {
        "colab_type": "text",
        "id": "YJhgDc2IauPE"
      },
      "source": [
        "---\n",
        "\n",
        "## Part 6: Generate output on a different dataset\n",
        "\n",
        "---\n",
        "\n",
        "**TODO:**\n",
        "\n",
        "* Choose a textual dataset. Here are some [text datasets](https://www.kaggle.com/datasets?tags=14104-text+data%2C13205-text+mining) from Kaggle \n",
        "\n",
        "* Generate some decent looking results and evaluate your model's performance (say what it did well / not so well)\n",
        "\n",
        "**DONE:**\n",
        "\n"
      ]
    },
    {
      "cell_type": "code",
      "metadata": {
        "id": "rCNSKpbv27nl",
        "colab_type": "code",
        "outputId": "d35a2e09-0758-44f0-c344-c1c5596be77c",
        "colab": {
          "base_uri": "https://localhost:8080/",
          "height": 173
        }
      },
      "source": [
        "file = unidecode.unidecode(open('./text_files/tiny_shakespeare.txt').read())\n",
        "file_len = len(file)\n",
        "print('file_len =', file_len)\n",
        "print(random_chunk())"
      ],
      "execution_count": 16,
      "outputs": [
        {
          "output_type": "stream",
          "text": [
            "file_len = 1115394\n",
            "ad still wear the crown,\n",
            "I here resign my government to thee,\n",
            "For thou art fortunate in all thy deeds.\n",
            "\n",
            "WARWICK:\n",
            "Your grace hath still been famed for virtuous;\n",
            "And now may seem as wise as virtuous,\n",
            "By \n"
          ],
          "name": "stdout"
        }
      ]
    },
    {
      "cell_type": "code",
      "metadata": {
        "id": "6t6Ty18w2_uU",
        "colab_type": "code",
        "colab": {}
      },
      "source": [
        "n_epochs = 5000\n",
        "print_every = 500\n",
        "plot_every = 100\n",
        "hidden_size = 200\n",
        "n_layers = 1\n",
        "lr = 0.001\n",
        " \n",
        "decoder = RNN(n_characters, hidden_size, n_characters, n_layers)\n",
        "decoder_optimizer = torch.optim.Adam(decoder.parameters(), lr=lr)\n",
        "criterion = nn.CrossEntropyLoss()\n",
        "\n",
        "inp, target = random_training_set()\n",
        "start = time.time()\n",
        "all_losses = []\n",
        "loss_avg = 0"
      ],
      "execution_count": 0,
      "outputs": []
    },
    {
      "cell_type": "code",
      "metadata": {
        "id": "LVNmLipfu7Ny",
        "colab_type": "code",
        "colab": {
          "base_uri": "https://localhost:8080/",
          "height": 1000
        },
        "outputId": "8233fbfa-d776-493a-a665-331b0e1586f6"
      },
      "source": [
        "for epoch in range(1, n_epochs + 1):\n",
        "  loss_ = train(*random_training_set())       \n",
        "  loss_avg += loss_\n",
        "\n",
        "  if epoch % print_every == 0:\n",
        "      print('[%s (%d %d%%) %.4f]' % (time.time() - start, epoch, epoch / n_epochs * 100, loss_))\n",
        "      print(evaluate('Wh', 100), '\\n')\n",
        "\n",
        "  if epoch % plot_every == 0:\n",
        "      all_losses.append(loss_avg / plot_every)\n",
        "      loss_avg = 0"
      ],
      "execution_count": 18,
      "outputs": [
        {
          "output_type": "stream",
          "text": [
            "[157.45819664001465 (500 10%) 2.0287]\n",
            "Why mant,\n",
            "Why legeme I if ms the turngst Eyst fain save,\n",
            "Wo france foancaried?\n",
            "Well, unk, I fanten Hap \n",
            "\n",
            "[309.2087688446045 (1000 20%) 1.8170]\n",
            "Whorstrane\n",
            "she ford wimant mawst with you comen:\n",
            "I way I comcoigh\n",
            "lobhile of Rinows, I pare his sweart \n",
            "\n",
            "[460.45297741889954 (1500 30%) 1.7173]\n",
            "Wherverd:\n",
            "To prichil:\n",
            "And comporing own dagile, Call deviton fries.\n",
            "\n",
            "AmTIENNUS:\n",
            "Boney nor resid it Nus \n",
            "\n",
            "[611.9716420173645 (2000 40%) 1.7874]\n",
            "Wharr.\n",
            "\n",
            "MERGAUCESTENC:\n",
            "Manish\n",
            "A do reme, son, though hath begwfand excuris.\n",
            "\n",
            "Hearr that most sught;\n",
            "Ih \n",
            "\n",
            "[764.0012674331665 (2500 50%) 1.5012]\n",
            "Whird, Semb'd roubtle must, say'd bid paren's grean the world;\n",
            "For this no you the gorns, and make hen \n",
            "\n",
            "[914.9174721240997 (3000 60%) 1.9378]\n",
            "Whirs: homing gracial.\n",
            "\n",
            "LUCEONE:\n",
            "He have her myself o him stridged\n",
            "And a partated one you not has thou \n",
            "\n",
            "[1066.4146196842194 (3500 70%) 1.4967]\n",
            "Whenced,' of fine!\n",
            "On? gave, and we will to-no murd, cannot with of Clempery.\n",
            "\n",
            "GiLABETH:\n",
            "Why, whore sh \n",
            "\n",
            "[1217.6201691627502 (4000 80%) 1.5868]\n",
            "Who: is: I thanksh'd\n",
            "Unneless ters, fight, since; and soot fails.\n",
            "\n",
            "WARWICK:\n",
            "Sweet will fear.\n",
            "\n",
            "Second S \n",
            "\n",
            "[1371.0280003547668 (4500 90%) 1.9093]\n",
            "Whine\n",
            "Kspace to he bear druck to-band's insurs, well,\n",
            "When him told thee to.\n",
            "Thee deign Lind RING HENR \n",
            "\n",
            "[1521.6038665771484 (5000 100%) 1.7928]\n",
            "Whal'd say they three\n",
            "Time me world.\n",
            "\n",
            "ESCAPULEL:\n",
            "How conseeviels decteen to ggoble own:\n",
            "He, dishouson  \n",
            "\n"
          ],
          "name": "stdout"
        }
      ]
    },
    {
      "cell_type": "code",
      "metadata": {
        "id": "6pK20oudvEAO",
        "colab_type": "code",
        "colab": {
          "base_uri": "https://localhost:8080/",
          "height": 1000
        },
        "outputId": "a13485fe-36d6-455f-cd71-b018246ae394"
      },
      "source": [
        "for i in range(10):\n",
        "  start_strings = [\" Th\", \" wh\", \" he\", \" I \", \" ca\", \" G\", \" lo\", \" ra\"]\n",
        "  start = random.randint(0,len(start_strings)-1)\n",
        "  print(start_strings[start])\n",
        "#   all_characters.index(string[c])\n",
        "  print(evaluate(start_strings[start], 200), '\\n')"
      ],
      "execution_count": 19,
      "outputs": [
        {
          "output_type": "stream",
          "text": [
            " wh\n",
            " whaft the right,\n",
            "Look Romarch her redures,\n",
            "And conselled comfort, man!\n",
            "\n",
            "QUEEN WICHARD III:\n",
            "IV courth, to a great lefe,\n",
            "The king head, DiEkers' right, by the noble.\n",
            "\n",
            "ELIO:\n",
            "With worl'd, and me him, Peliev \n",
            "\n",
            " ca\n",
            " cal when her it:\n",
            "Come, your man dream,\n",
            "If hear me, witwhe fell unto the would great butchio.\n",
            "Fathem; and a lones fiesal vost kite pardon\n",
            "but at and bury, of they slay take and with me the mejco.\n",
            "\n",
            "HASCES \n",
            "\n",
            " wh\n",
            " whoenger my father some firged\n",
            "The Tibgeen enurn the bark, what\n",
            "Heven at an her acion'sw awail-villain mistre\n",
            "As Edwards I day, and thaunking from by sir?\n",
            "\n",
            "MERCUTI:\n",
            "The eittle hence: ask you'rownering;\n",
            " \n",
            "\n",
            " ca\n",
            " cate and brother.\n",
            "\n",
            "BOLUSSTER:\n",
            "Now, go? I have on your hunds too canst,\n",
            "Your grows instance the cere!\n",
            "\n",
            "TAUCLAGE:\n",
            "Till of me, inisher's now tempera that hearth;\n",
            "The prooutter,--\n",
            "And for a touch in the dot \n",
            "\n",
            " ra\n",
            " ral the poly atter-butch'd him noble countor.\n",
            "Soval nogk, but dame! him hear them die;\n",
            "Who Edwark burb it is gentle noble of Amath\n",
            "Thou let need when dufter strike dease of hath my crown?\n",
            "That leath.\n",
            "\n",
            "D \n",
            "\n",
            " Th\n",
            " Tho thank your are me;\n",
            "Eo. But name and so in askdred underful.\n",
            "\n",
            "LUCESTER:\n",
            "The friend her fell of ssolled so\n",
            "With rapry,\n",
            "The remeech'd so must now the couson,\n",
            "The sshapt against notration, go!\n",
            "I villuni \n",
            "\n",
            " lo\n",
            " lok more's dead thee;\n",
            "Thy Levien meet, to meage,--\n",
            "\n",
            "RUFLET:\n",
            "I'll fortune good the pretcut\n",
            "That stray your curbry, my, there holageds: therefore opfort?\n",
            "\n",
            "DUKE SARGHESS:\n",
            "So kings and leared the head when  \n",
            "\n",
            " I \n",
            " I to doiner'd to bolong,\n",
            "When your merread? I have you beoof!\n",
            "\n",
            "PETRUMH:\n",
            "Come, to my mothers.\n",
            "\n",
            "DUKEd:\n",
            "\n",
            "ESCALUS:\n",
            "No, myself and has.\n",
            "Think her hear napries send thousand forguing witch was ord-mind?\n",
            "\n",
            "TRAN \n",
            "\n",
            " G\n",
            " Gord:\n",
            "And, my mindel; whis may give. His he hamp a\n",
            "to heavings wife the bring such! in\n",
            "should hap Peaces on: he's norky me soul, and wele hands,\n",
            "Therefore, I tear by our great, whom forfore,\n",
            "Their comq \n",
            "\n",
            " ca\n",
            " cae of the bety meanorn:\n",
            "Whiccest Powar, Some camfort to you aresey, and that Plaute,\n",
            "Sir, petches' all such at.\n",
            "Lown all me we should be him!\n",
            "\n",
            "GLOUCESTER:\n",
            "Which dook want my to men thank her.\n",
            "\n",
            "MINGLY:\n",
            " \n",
            "\n"
          ],
          "name": "stdout"
        }
      ]
    },
    {
      "cell_type": "code",
      "metadata": {
        "id": "3VFw-WiWxXAz",
        "colab_type": "code",
        "colab": {}
      },
      "source": [
        ""
      ],
      "execution_count": 0,
      "outputs": []
    }
  ]
}